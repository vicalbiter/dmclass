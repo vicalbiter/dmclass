{
 "cells": [
  {
   "cell_type": "code",
   "execution_count": 6,
   "metadata": {},
   "outputs": [],
   "source": [
    "import pandas as pd\n",
    "import numpy as np\n",
    "import json"
   ]
  },
  {
   "cell_type": "code",
   "execution_count": 4,
   "metadata": {},
   "outputs": [],
   "source": [
    "def transformWType(datafile, jsonfile):\n",
    "    catfile = open(jsonfile)\n",
    "    categories = json.load(catfile)\n",
    "    data = pd.read_csv(datafile)\n",
    "    dictionary = {}\n",
    "    for catname in categories.keys():\n",
    "        new_column = []\n",
    "        for element in data.loc[:, catname]:\n",
    "            new_category = categorizeWType(element, categories[catname])\n",
    "            new_column.append(new_category)\n",
    "        dictionary[catname] = new_column\n",
    "    return pd.DataFrame.from_dict(dictionary, orient=\"columns\")\n",
    "\n",
    "def categorizeWType(element, categories):\n",
    "    for key in categories.keys():\n",
    "        if key != \"else\" and key != \"type\" and key != \"-1\":\n",
    "            if categories[\"type\"] == \"cont\":\n",
    "                if str(element) >= categories[key][0] and str(element) < categories[key][1]:\n",
    "                    return key\n",
    "            elif categories[\"type\"] == \"disc\":\n",
    "                if str(element) in categories[key]:\n",
    "                    return key\n",
    "    return categories[\"else\"]"
   ]
  },
  {
   "cell_type": "code",
   "execution_count": 7,
   "metadata": {},
   "outputs": [],
   "source": [
    "dic1 = transformWType(\"estilo_vida.csv\", \"catvida2.txt\")\n",
    "dic1.to_csv(\"new_life.csv\")"
   ]
  }
 ],
 "metadata": {
  "kernelspec": {
   "display_name": "Python 2",
   "language": "python",
   "name": "python2"
  },
  "language_info": {
   "codemirror_mode": {
    "name": "ipython",
    "version": 2
   },
   "file_extension": ".py",
   "mimetype": "text/x-python",
   "name": "python",
   "nbconvert_exporter": "python",
   "pygments_lexer": "ipython2",
   "version": "2.7.15"
  }
 },
 "nbformat": 4,
 "nbformat_minor": 2
}
