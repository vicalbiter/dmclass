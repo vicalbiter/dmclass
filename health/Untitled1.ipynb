{
 "cells": [
  {
   "cell_type": "code",
   "execution_count": 63,
   "metadata": {},
   "outputs": [],
   "source": [
    "import pandas as pd\n",
    "import numpy as np\n",
    "import csv"
   ]
  },
  {
   "cell_type": "code",
   "execution_count": 130,
   "metadata": {
    "scrolled": true
   },
   "outputs": [
    {
     "name": "stdout",
     "output_type": "stream",
     "text": [
      "u'the label [16] is not in the [index]'\n",
      "u'the label [444] is not in the [index]'\n",
      "u'the label [511] is not in the [index]'\n"
     ]
    }
   ],
   "source": [
    "def readDataFromCSV(filename):\n",
    "    dict_list = []\n",
    "    reader = csv.DictReader(open(filename, 'rb'))\n",
    "    for line in reader:\n",
    "        dict_list.append(line)\n",
    "    return dict_list\n",
    "\n",
    "ant_pers = pd.read_csv('ant_pers.csv')\n",
    "ant_pers.set_index('an_folio', inplace=True)\n",
    "\n",
    "vant_pers = ant_pers.values\n",
    "snps = readDataFromCSV('snps.csv')\n",
    "\n",
    "# Create a dictionary with the SNPs and the Obesity Class\n",
    "for pid in snps:\n",
    "    try:\n",
    "        pid[\"Obesidad\"] = ant_pers.loc[int(pid[\"FID\"])][0]\n",
    "    except KeyError as e:\n",
    "        print e"
   ]
  },
  {
   "cell_type": "code",
   "execution_count": 124,
   "metadata": {},
   "outputs": [
    {
     "name": "stdout",
     "output_type": "stream",
     "text": [
      "0\n"
     ]
    }
   ],
   "source": []
  },
  {
   "cell_type": "code",
   "execution_count": null,
   "metadata": {},
   "outputs": [],
   "source": [
    "for i in range(ant_pers.shape[0]):\n",
    "    "
   ]
  }
 ],
 "metadata": {
  "kernelspec": {
   "display_name": "Python 2",
   "language": "python",
   "name": "python2"
  },
  "language_info": {
   "codemirror_mode": {
    "name": "ipython",
    "version": 2
   },
   "file_extension": ".py",
   "mimetype": "text/x-python",
   "name": "python",
   "nbconvert_exporter": "python",
   "pygments_lexer": "ipython2",
   "version": "2.7.15"
  }
 },
 "nbformat": 4,
 "nbformat_minor": 2
}
