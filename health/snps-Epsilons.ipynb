{
 "cells": [
  {
   "cell_type": "code",
   "execution_count": 1,
   "metadata": {},
   "outputs": [],
   "source": [
    "import pandas as pd\n",
    "import numpy as np"
   ]
  },
  {
   "cell_type": "code",
   "execution_count": 27,
   "metadata": {
    "scrolled": true
   },
   "outputs": [],
   "source": [
    "import csv\n",
    "import math\n",
    "\n",
    "def readDataFromCSV(filename):\n",
    "    dict_list = []\n",
    "    reader = csv.DictReader(open(filename, 'rb'))\n",
    "    for line in reader:\n",
    "        dict_list.append(line)\n",
    "    return dict_list\n",
    "\n",
    "# Write a \"Feature - Category - Value\" type dictionary to a CSV\n",
    "def writeEpsilonsDataToCSV(filename, epsdict):\n",
    "    with open(filename, 'w') as file:\n",
    "        for feature in epsdict.keys():\n",
    "            for category in epsdict[feature].keys():\n",
    "                epsilon = epsdict[feature][category][\"epsilon\"]\n",
    "                nx = epsdict[feature][category][\"nx\"]\n",
    "                nc = epsdict[feature][category][\"nc\"]\n",
    "                ncx = epsdict[feature][category][\"ncx\"]\n",
    "                file.write(\"%s,%s,%s,%s,%s,%s\\n\"%(feature, category, epsilon, nx, nc, ncx))\n",
    "\n",
    "def writeDictDataToCSV(filename, dict):\n",
    "    csv_columns = getAllFeatures(dict)\n",
    "    with open(filename, 'w') as file:\n",
    "        writer = csv.DictWriter(file, fieldnames = csv_columns)\n",
    "        writer.writeheader()\n",
    "        for row in dict:\n",
    "            writer.writerow(row)\n",
    "\n",
    "def writeCompleteDictDataToCSV(filename, dict):\n",
    "    csv_columns = getAllFeatures(dict)\n",
    "    csv_columns.append(c_class)\n",
    "    with open(filename, 'w') as file:\n",
    "        writer = csv.DictWriter(file, fieldnames = csv_columns)\n",
    "        writer.writeheader()\n",
    "        for row in dict:\n",
    "            writer.writerow(row)\n",
    "\n",
    "def getAllFeatures(data):\n",
    "    features = []\n",
    "    for feature in data[0]:\n",
    "        if feature != c_class:\n",
    "            features.append(feature)\n",
    "    return features\n",
    "\n",
    "def getFeatures(data):\n",
    "    features = []\n",
    "    for feature in data[0]:\n",
    "        if feature != 'FID' and feature != c_class:\n",
    "            features.append(feature)\n",
    "    return features\n",
    "\n",
    "def getCategories(feature, data):\n",
    "    mincount = int(data[0][feature])\n",
    "    maxcount = int(data[0][feature])\n",
    "    for id in range(len(data)):\n",
    "        current = int(data[id][feature])\n",
    "        if current > maxcount:\n",
    "            maxcount = current\n",
    "        if current < mincount:\n",
    "            mincount = current\n",
    "    return mincount, maxcount\n",
    "\n",
    "def getCategoriesT(feature, data):\n",
    "    cat_dict = {}\n",
    "    for i in range(len(data)):\n",
    "        current = str(data[i][feature])\n",
    "        cat_dict[current] = \"cat\"\n",
    "    return cat_dict.keys()\n",
    "\n",
    "def getNX(feature, category, data):\n",
    "    count = 0\n",
    "    for i in range(len(data)):\n",
    "        if str(category) == str(data[i][feature]):\n",
    "            count = count + 1\n",
    "    #fc = str(feature) + ' (Cat: ' + str(category) + ')'\n",
    "    #print fc + ': ' + str(count)\n",
    "    return count\n",
    "\n",
    "def getNCX(feature1, category1, feature2, category2, data):\n",
    "    count = 0\n",
    "    for i in range(len(data)):\n",
    "        if str(category1) == str(data[i][feature1]) and str(category2) == str(data[i][feature2]):\n",
    "            count = count + 1\n",
    "    #fc1 = str(feature1) + ' (Cat: ' + str(category1) + ')'\n",
    "    #fc2 = str(feature2) + ' (Cat: ' + str(category2) + ')'\n",
    "    #print fc1 + ' AND ' + fc2 + ': ' + str(count)\n",
    "    return count\n",
    "\n",
    "def getAllEpsilons(data):\n",
    "    features = getFeatures(data)\n",
    "    epsilons = {}\n",
    "    for feature in features:\n",
    "        epsilons[feature] = getEpsilonsFromFeature(feature, data)\n",
    "    return epsilons\n",
    "\n",
    "def getEpsilonsFromFeature(feature, data):\n",
    "    categories = getCategoriesT(feature, data)\n",
    "    epsilons = {}\n",
    "    for category in categories:\n",
    "        values = getEpsilon(feature, category, data)\n",
    "        epsilons[category] = values\n",
    "    return epsilons\n",
    "\n",
    "def getEpsilon(feature, category, data):\n",
    "    n = len(data)\n",
    "    nx = getNX(feature, category, data)\n",
    "    nc = getNX(c_class, c_category, data)\n",
    "    ncx = getNCX(feature, category, c_class, c_category, data)\n",
    "    if n != 0 and nx != 0 and nc != 0:\n",
    "        pc = nc / float(n)\n",
    "        pcx = ncx / float(nx)\n",
    "        epsilon = nx * (pcx - pc) / math.sqrt(nx * pc * (1 - pc))\n",
    "    else:\n",
    "        epsilon = 0\n",
    "        \n",
    "    values = {\"epsilon\": epsilon, \"nx\": nx, \"nc\": nc, \"ncx\": ncx}\n",
    "    #print 'Epsilon :' + str(epsilon)\n",
    "    return values\n",
    "\n",
    "#training_data = readDataFromCSV('datos_completos.csv')\n",
    "#test_data = readDataFromCSV('datos_completos.csv')\n",
    "#all_data = readDataFromCSV('datos_completos.csv')"
   ]
  },
  {
   "cell_type": "code",
   "execution_count": 67,
   "metadata": {},
   "outputs": [],
   "source": [
    "ant_pers = pd.read_csv('ant_pers.csv', index_col = 'an_folio')\n",
    "snps = readDataFromCSV('snps.csv')"
   ]
  },
  {
   "cell_type": "code",
   "execution_count": 90,
   "metadata": {},
   "outputs": [
    {
     "name": "stdout",
     "output_type": "stream",
     "text": [
      "u'the label [16] is not in the [index]'\n",
      "u'the label [444] is not in the [index]'\n",
      "u'the label [511] is not in the [index]'\n"
     ]
    }
   ],
   "source": [
    "completeDictionary = []\n",
    "\n",
    "# Create a dictionary with the SNPs and all the relevant data\n",
    "for pid in snps:\n",
    "    try:\n",
    "        pid[\"Obesidad\"] = ant_pers.loc[int(pid[\"FID\"])][0]\n",
    "        pid[\"Acintura\"] = ant_pers.loc[int(pid[\"FID\"])][1]\n",
    "        pid[\"Abrazo\"] = ant_pers.loc[int(pid[\"FID\"])][2]\n",
    "        pid[\"estres5\"] = ant_pers.loc[int(pid[\"FID\"])][3]\n",
    "        pid[\"Ainsulina\"] = ant_pers.loc[int(pid[\"FID\"])][4]\n",
    "        pid[\"glu_com\"] = ant_pers.loc[int(pid[\"FID\"])][5]\n",
    "        pid[\"uric_com\"] = ant_pers.loc[int(pid[\"FID\"])][6]\n",
    "        completeDictionary.append(pid)\n",
    "    except KeyError as e:\n",
    "        print e\n",
    "    \n",
    "newDict = {}\n",
    "\n",
    "for key in pid.keys():\n",
    "    newDict[key] = []\n",
    "    \n",
    "for entry in completeDictionary:\n",
    "    for key in pid.keys():\n",
    "        newDict[key].append(entry[key])"
   ]
  },
  {
   "cell_type": "code",
   "execution_count": 94,
   "metadata": {},
   "outputs": [],
   "source": [
    "df = pd.DataFrame.from_dict(newDict)\n",
    "df.to_csv(path_or_buf='snpswvars.csv', index=False)"
   ]
  },
  {
   "cell_type": "code",
   "execution_count": 98,
   "metadata": {},
   "outputs": [],
   "source": [
    "writeEpsilonsDataToCSV('epsilons_test.csv', eps)"
   ]
  },
  {
   "cell_type": "code",
   "execution_count": 37,
   "metadata": {
    "scrolled": false
   },
   "outputs": [],
   "source": [
    "c_class = 'Abrazo'\n",
    "c_category = 5\n",
    "datafile = 'snpswvars.csv'\n",
    "\n",
    "training_data = readDataFromCSV(datafile)\n",
    "test_data = readDataFromCSV(datafile)\n",
    "all_data = readDataFromCSV(datafile)\n",
    "    \n",
    "eps = getAllEpsilons(all_data)\n",
    "writeEpsilonsDataToCSV('epsilons_snps_brazo.csv', eps)"
   ]
  },
  {
   "cell_type": "code",
   "execution_count": 38,
   "metadata": {},
   "outputs": [],
   "source": [
    "c_class = 'Acintura'\n",
    "c_category = 5\n",
    "datafile = 'snpswvars.csv'\n",
    "\n",
    "training_data = readDataFromCSV(datafile)\n",
    "test_data = readDataFromCSV(datafile)\n",
    "all_data = readDataFromCSV(datafile)\n",
    "    \n",
    "eps = getAllEpsilons(all_data)\n",
    "writeEpsilonsDataToCSV('epsilons_snps_cintura.csv', eps)"
   ]
  },
  {
   "cell_type": "code",
   "execution_count": 39,
   "metadata": {},
   "outputs": [],
   "source": [
    "c_class = 'estres5'\n",
    "c_category = 1\n",
    "datafile = 'snpswvars.csv'\n",
    "\n",
    "training_data = readDataFromCSV(datafile)\n",
    "test_data = readDataFromCSV(datafile)\n",
    "all_data = readDataFromCSV(datafile)\n",
    "    \n",
    "eps = getAllEpsilons(all_data)\n",
    "writeEpsilonsDataToCSV('epsilons_snps_estres5.csv', eps)"
   ]
  },
  {
   "cell_type": "code",
   "execution_count": 40,
   "metadata": {},
   "outputs": [],
   "source": [
    "c_class = 'Ainsulina'\n",
    "c_category = 5\n",
    "datafile = 'snpswvars.csv'\n",
    "\n",
    "training_data = readDataFromCSV(datafile)\n",
    "test_data = readDataFromCSV(datafile)\n",
    "all_data = readDataFromCSV(datafile)\n",
    "    \n",
    "eps = getAllEpsilons(all_data)\n",
    "writeEpsilonsDataToCSV('epsilons_snps_insulina.csv', eps)"
   ]
  },
  {
   "cell_type": "code",
   "execution_count": 41,
   "metadata": {},
   "outputs": [],
   "source": [
    "c_class = 'glu_com'\n",
    "c_category = 'ALTO'\n",
    "datafile = 'snpswvars.csv'\n",
    "\n",
    "training_data = readDataFromCSV(datafile)\n",
    "test_data = readDataFromCSV(datafile)\n",
    "all_data = readDataFromCSV(datafile)\n",
    "    \n",
    "eps = getAllEpsilons(all_data)\n",
    "writeEpsilonsDataToCSV('epsilons_snps_glucosa.csv', eps)"
   ]
  },
  {
   "cell_type": "code",
   "execution_count": 42,
   "metadata": {},
   "outputs": [],
   "source": [
    "c_class = 'uric_com'\n",
    "c_category = 'ALTO'\n",
    "datafile = 'snpswvars.csv'\n",
    "\n",
    "training_data = readDataFromCSV(datafile)\n",
    "test_data = readDataFromCSV(datafile)\n",
    "all_data = readDataFromCSV(datafile)\n",
    "    \n",
    "eps = getAllEpsilons(all_data)\n",
    "writeEpsilonsDataToCSV('epsilons_snps_acidourico.csv', eps)"
   ]
  },
  {
   "cell_type": "code",
   "execution_count": 66,
   "metadata": {},
   "outputs": [],
   "source": [
    "# Get the epsilons for the selected list of snps\n",
    "inters = pd.read_csv('Intersection.csv')\n",
    "vinters = inters.values\n",
    "fl = []\n",
    "for snp in range(vinters.shape[0]):\n",
    "    fl.append(vinters[snp][0])\n",
    "    \n",
    "def getSpecificEpsilons(feature_list, data):\n",
    "    epsilons = {}\n",
    "    for feature in feature_list:\n",
    "        epsilons[feature] = getEpsilonsFromFeature(feature, data)\n",
    "    return epsilons\n",
    "    \n",
    "    \n",
    "c_class = 'Obesidad'\n",
    "c_category = 1\n",
    "datafile = 'snpsobes.csv'\n",
    "\n",
    "training_data = readDataFromCSV(datafile)\n",
    "test_data = readDataFromCSV(datafile)\n",
    "all_data = readDataFromCSV(datafile)\n",
    "\n",
    "eps = getSpecificEpsilons(fl, all_data)\n",
    "writeEpsilonsDataToCSV('epsilons_intersection_snps.csv', eps)"
   ]
  },
  {
   "cell_type": "code",
   "execution_count": null,
   "metadata": {},
   "outputs": [],
   "source": []
  }
 ],
 "metadata": {
  "kernelspec": {
   "display_name": "Python 2",
   "language": "python",
   "name": "python2"
  },
  "language_info": {
   "codemirror_mode": {
    "name": "ipython",
    "version": 2
   },
   "file_extension": ".py",
   "mimetype": "text/x-python",
   "name": "python",
   "nbconvert_exporter": "python",
   "pygments_lexer": "ipython2",
   "version": "2.7.15"
  }
 },
 "nbformat": 4,
 "nbformat_minor": 2
}
